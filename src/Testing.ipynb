{
 "cells": [
  {
   "cell_type": "code",
   "execution_count": 7,
   "metadata": {},
   "outputs": [],
   "source": [
    "from project_sparse import *"
   ]
  },
  {
   "attachments": {},
   "cell_type": "markdown",
   "metadata": {},
   "source": [
    "Changing an element present in a CSR matrix"
   ]
  },
  {
   "cell_type": "code",
   "execution_count": 28,
   "metadata": {},
   "outputs": [
    {
     "name": "stdout",
     "output_type": "stream",
     "text": [
      "7.43 µs ± 485 ns per loop (mean ± std. dev. of 7 runs, 100,000 loops each)\n",
      "53.5 ns ± 1.56 ns per loop (mean ± std. dev. of 7 runs, 10,000,000 loops each)\n"
     ]
    },
    {
     "name": "stderr",
     "output_type": "stream",
     "text": [
      "c:\\Users\\artis\\miniconda3\\lib\\site-packages\\scipy\\sparse\\_index.py:103: SparseEfficiencyWarning: Changing the sparsity structure of a csr_matrix is expensive. lil_matrix is more efficient.\n",
      "  self._set_intXint(row, col, x.flat[0])\n"
     ]
    },
    {
     "name": "stdout",
     "output_type": "stream",
     "text": [
      "63.6 µs ± 5.89 µs per loop (mean ± std. dev. of 7 runs, 10,000 loops each)\n",
      "62.8 µs ± 2.65 µs per loop (mean ± std. dev. of 7 runs, 10,000 loops each)\n"
     ]
    },
    {
     "data": {
      "text/plain": [
       "<4x6 sparse matrix of type '<class 'numpy.intc'>'\n",
       "\twith 9 stored elements in Compressed Sparse Row format>"
      ]
     },
     "execution_count": 28,
     "metadata": {},
     "output_type": "execute_result"
    }
   ],
   "source": [
    "from scipy import sparse\n",
    "# import pysparse\n",
    "\n",
    "our = SparseMatrix(matrix)\n",
    "sci = sparse.csr_matrix(matrix)\n",
    "\n",
    "%timeit our.change(1, 2, 35)\n",
    "ourc = our.change(1, 2, 35)\n",
    "%timeit our=ourc\n",
    "%timeit sci[1, 2]=35\n",
    "\n",
    "sci.tolil()\n",
    "%timeit sci[1, 2]=35\n",
    "sci.tocsr()"
   ]
  },
  {
   "attachments": {},
   "cell_type": "markdown",
   "metadata": {},
   "source": [
    "Inserting a completely new element in a CSR matrix"
   ]
  },
  {
   "cell_type": "code",
   "execution_count": 30,
   "metadata": {},
   "outputs": [
    {
     "name": "stdout",
     "output_type": "stream",
     "text": [
      "7.12 µs ± 258 ns per loop (mean ± std. dev. of 7 runs, 100,000 loops each)\n",
      "57.6 µs ± 1.45 µs per loop (mean ± std. dev. of 7 runs, 10,000 loops each)\n",
      "63.9 µs ± 4.84 µs per loop (mean ± std. dev. of 7 runs, 10,000 loops each)\n"
     ]
    }
   ],
   "source": [
    "sci.tocsr()\n",
    "%timeit our.change(2, 0, 90)\n",
    "%timeit sci[2, 0]=90\n",
    "sci.tolil()\n",
    "%timeit sci[2, 0]=90"
   ]
  },
  {
   "attachments": {},
   "cell_type": "markdown",
   "metadata": {},
   "source": [
    "Summing up two CSR matrices"
   ]
  },
  {
   "cell_type": "code",
   "execution_count": 32,
   "metadata": {},
   "outputs": [
    {
     "name": "stdout",
     "output_type": "stream",
     "text": [
      "520 µs ± 21 µs per loop (mean ± std. dev. of 7 runs, 1,000 loops each)\n",
      "117 µs ± 6.51 µs per loop (mean ± std. dev. of 7 runs, 10,000 loops each)\n"
     ]
    }
   ],
   "source": [
    "sci.tocsr()\n",
    "our2 = SparseMatrix(matrix2)\n",
    "sci2 = sparse.csr_matrix(matrix2)\n",
    "\n",
    "%timeit our.add(our2)\n",
    "%timeit sci + sci2"
   ]
  }
 ],
 "metadata": {
  "kernelspec": {
   "display_name": "base",
   "language": "python",
   "name": "python3"
  },
  "language_info": {
   "codemirror_mode": {
    "name": "ipython",
    "version": 3
   },
   "file_extension": ".py",
   "mimetype": "text/x-python",
   "name": "python",
   "nbconvert_exporter": "python",
   "pygments_lexer": "ipython3",
   "version": "3.9.12"
  },
  "orig_nbformat": 4,
  "vscode": {
   "interpreter": {
    "hash": "874f332f4c5f95852701819c991adf6f67f79cbb12e0b6c0a82015e8ab4d82a6"
   }
  }
 },
 "nbformat": 4,
 "nbformat_minor": 2
}
