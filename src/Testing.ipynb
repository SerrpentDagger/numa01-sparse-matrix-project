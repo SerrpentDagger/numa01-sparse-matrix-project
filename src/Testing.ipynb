{
 "cells": [
  {
   "attachments": {},
   "cell_type": "markdown",
   "metadata": {},
   "source": [
    "### Testing execution time"
   ]
  },
  {
   "cell_type": "code",
   "execution_count": null,
   "metadata": {},
   "outputs": [],
   "source": [
    "from project_sparse import *\n",
    "from scipy import sparse\n",
    "import random\n",
    "\n",
    "def randmatrix(approximate_sparsity, num_rows, num_cols):\n",
    "    \"\"\"\n",
    "    Randomly generates a matrix - for testing purposes.\n",
    "\n",
    "    Parameters\n",
    "    ----------\n",
    "    approximate_sparsity : integer\n",
    "        The approximate ratio of zeros in relation to other values.\n",
    "    num_rows : integer\n",
    "        The number of rows in the randomly generated matrix.\n",
    "    num_cols : integer\n",
    "        The number of columns in the randomly generated matrix.\n",
    "\n",
    "    Returns\n",
    "    -------\n",
    "    matrix : np.array\n",
    "        The randomly generated matrix.\n",
    "\n",
    "    \"\"\"\n",
    "    matrix = np.zeros(shape=[num_rows, num_cols])\n",
    "    for i in range(num_rows):\n",
    "        for j in range(num_cols):\n",
    "            num = random.random()\n",
    "            if num > approximate_sparsity:\n",
    "                matrix[i,j] = (random.random()-0.5)*1000\n",
    "    return matrix\n",
    "\n",
    "n = 1000\n",
    "\n",
    "matrices = [randmatrix(random.random(),\n",
    "random.randint(3,30),\n",
    "random.randint(3,30)) for i in range(n)]\n",
    "\n",
    "matrices2 = [randmatrix(random.random(),\n",
    "matrices[i].shape[0],\n",
    "matrices[i].shape[1]) for i in range(n)]\n",
    "\n",
    "vectors = []\n",
    "for i in range(n):\n",
    "    vectors.append(*randmatrix(random.random(),\n",
    "    1,\n",
    "    matrices[i].shape[1]))\n",
    "\n",
    "our = [SparseMatrix(matrices[i], tol=0) for i in range(n)]\n",
    "sci = [sparse.csr_matrix(matrices[i]) for i in range(n)]\n",
    "\n",
    "our2 = [SparseMatrix(matrices2[i], tol=0) for i in range(n)]\n",
    "sci2 = [sparse.csr_matrix(matrices2[i]) for i in range(n)]\n",
    "\n",
    "ourc = [SparseMatrix(matrices2[i], tol=0) for i in range(n)]\n",
    "for i in range(n):\n",
    "    ourc[i].switch('CSC')\n",
    "scic = [sparse.csc_matrix(matrices2[i]) for i in range(n)]"
   ]
  },
  {
   "attachments": {},
   "cell_type": "markdown",
   "metadata": {},
   "source": [
    "Changing an element present in a CSR matrix\n",
    "\n",
    "###### A warning on efficiency is thrown by scipy here. It is ignored since our class doesn't have a lil_matrix type that would allow for a direct comparison.\n",
    "\n"
   ]
  },
  {
   "cell_type": "code",
   "execution_count": null,
   "metadata": {},
   "outputs": [],
   "source": [
    "%timeit [our[i].change(1,2,25) for i in range(n)]\n",
    "%timeit [sci[i].__setitem__((1,2),25) for i in range(n)]"
   ]
  },
  {
   "attachments": {},
   "cell_type": "markdown",
   "metadata": {},
   "source": [
    "Summing up two CSR matrices"
   ]
  },
  {
   "cell_type": "code",
   "execution_count": null,
   "metadata": {},
   "outputs": [],
   "source": [
    "%timeit [our[i].add(our2[i]) for i in range(n)]\n",
    "%timeit [sci[i] + sci2[i] for i in range(n)]"
   ]
  },
  {
   "attachments": {},
   "cell_type": "markdown",
   "metadata": {},
   "source": [
    "Summing up a CSR matrix and a CSC matrix"
   ]
  },
  {
   "cell_type": "code",
   "execution_count": null,
   "metadata": {},
   "outputs": [],
   "source": [
    "%timeit [our[i].add(ourc[i]) for i in range(n)]\n",
    "%timeit [sci[i] + scic[i] for i in range(n)]"
   ]
  },
  {
   "attachments": {},
   "cell_type": "markdown",
   "metadata": {},
   "source": [
    "Multiplying a CSR matrix with a vector"
   ]
  },
  {
   "cell_type": "code",
   "execution_count": null,
   "metadata": {},
   "outputs": [],
   "source": [
    "%timeit [our[i].multiply(vectors[i]) for i in range(n)]\n",
    "%timeit [sci[i] * vectors[i] for i in range(n)]"
   ]
  },
  {
   "attachments": {},
   "cell_type": "markdown",
   "metadata": {},
   "source": [
    "### Comparing outputs"
   ]
  },
  {
   "cell_type": "code",
   "execution_count": null,
   "metadata": {},
   "outputs": [],
   "source": [
    "def toarray(SparseMatrix):\n",
    "    \"\"\"\n",
    "    Converts a sparse matrix to type np.array - for testing purposes.\n",
    "\n",
    "    Parameters\n",
    "    ----------\n",
    "    SparseMatrix : SparseMatrix\n",
    "        A sparse matrix to be converted.\n",
    "\n",
    "    Returns\n",
    "    -------\n",
    "    result : np.array\n",
    "        The sparse matrix in np.array format.\n",
    "\n",
    "    \"\"\"\n",
    "    Sum = copy.copy(SparseMatrix)\n",
    "    if Sum.intern_represent == 'CSR':\n",
    "        Sum.rows = decompress(Sum.rows, Sum.num_rows)\n",
    "    else:\n",
    "        Sum.switch('CSR')\n",
    "        Sum.rows = decompress(Sum.rows, Sum.num_rows)\n",
    "\n",
    "    result = np.zeros((Sum.num_rows, Sum.num_cols))\n",
    "    for i in range(Sum.number_of_nonzero):\n",
    "        result[Sum.rows[i], Sum.cols[i]]=Sum.v[i]\n",
    "    return result\n",
    "\n",
    "def compare():\n",
    "    \"\"\"\n",
    "    Compares whether ourf and scif are the same and prints them if they differ - for testing purposes.\n",
    "\n",
    "    Parameters\n",
    "    ----------\n",
    "    None.\n",
    "\n",
    "    Returns\n",
    "    -------\n",
    "    None.\n",
    "\n",
    "    \"\"\"\n",
    "    for i in range(n):\n",
    "        if (toarray(ourf[i]) != scif[i].toarray()).any():\n",
    "            print(scif[i])\n",
    "            ourf[i].show()\n",
    "\n",
    "ourf = copy.copy(our)\n",
    "scif = copy.copy(sci)\n",
    "compare()\n",
    "ourf = copy.copy(our2)\n",
    "scif = copy.copy(sci2)\n",
    "compare()\n",
    "ourf = copy.copy(ourc)\n",
    "scif = copy.copy(scic)\n",
    "compare()"
   ]
  },
  {
   "attachments": {},
   "cell_type": "markdown",
   "metadata": {},
   "source": [
    "Changing an element present in a CSR matrix"
   ]
  },
  {
   "cell_type": "code",
   "execution_count": null,
   "metadata": {},
   "outputs": [],
   "source": [
    "for i in range(n):\n",
    "    ourf[i].change(1,2,25)\n",
    "    scif[i].__setitem__((1,2),25)\n",
    "\n",
    "compare()"
   ]
  },
  {
   "attachments": {},
   "cell_type": "markdown",
   "metadata": {},
   "source": [
    "Summing up two CSR matrices"
   ]
  },
  {
   "cell_type": "code",
   "execution_count": null,
   "metadata": {},
   "outputs": [],
   "source": [
    "for i in range(n):\n",
    "    ourf[i] = our[i].add(our2[i])\n",
    "    scif[i] = sci[i] + sci2[i]\n",
    "\n",
    "compare()"
   ]
  },
  {
   "attachments": {},
   "cell_type": "markdown",
   "metadata": {},
   "source": [
    "Summing up a CSR matrix and a CSC matrix"
   ]
  },
  {
   "cell_type": "code",
   "execution_count": null,
   "metadata": {},
   "outputs": [],
   "source": [
    "for i in range(n):\n",
    "    ourf[i] = our[i].add(ourc[i])\n",
    "    scif[i] = sci[i] + scic[i]\n",
    "\n",
    "compare()"
   ]
  },
  {
   "attachments": {},
   "cell_type": "markdown",
   "metadata": {},
   "source": [
    "Summing up two CSC matrices"
   ]
  },
  {
   "cell_type": "code",
   "execution_count": null,
   "metadata": {},
   "outputs": [],
   "source": [
    "for i in range(n):\n",
    "    ourf[i] = copy.copy(our[i])\n",
    "    ourf[i].switch('CSC')\n",
    "    ourf[i] = ourc[i].add(ourf[i])\n",
    "    scif[i] = scic[i] + sci[i].tocsc()\n",
    "\n",
    "compare()"
   ]
  },
  {
   "attachments": {},
   "cell_type": "markdown",
   "metadata": {},
   "source": [
    "Multiplying a matrix with a vector"
   ]
  },
  {
   "cell_type": "code",
   "execution_count": null,
   "metadata": {},
   "outputs": [],
   "source": [
    "# CSR\n",
    "for i in range(n):\n",
    "    if (our[i].multiply(vectors[i]) != sci[i] * vectors[i]).any():\n",
    "        print(our[i].multiply(vectors[i]))\n",
    "        print(sci[i] * vectors[i])\n",
    "# CSC\n",
    "for i in range(n):\n",
    "    if (ourc[i].multiply(vectors[i]) != scic[i] * vectors[i]).any():\n",
    "        print(ourc[i].multiply(vectors[i]))\n",
    "        print(scic[i] * vectors[i])"
   ]
  }
 ],
 "metadata": {
  "kernelspec": {
   "display_name": "base",
   "language": "python",
   "name": "python3"
  },
  "language_info": {
   "codemirror_mode": {
    "name": "ipython",
    "version": 3
   },
   "file_extension": ".py",
   "mimetype": "text/x-python",
   "name": "python",
   "nbconvert_exporter": "python",
   "pygments_lexer": "ipython3",
   "version": "3.9.12"
  },
  "orig_nbformat": 4,
  "vscode": {
   "interpreter": {
    "hash": "874f332f4c5f95852701819c991adf6f67f79cbb12e0b6c0a82015e8ab4d82a6"
   }
  }
 },
 "nbformat": 4,
 "nbformat_minor": 2
}
