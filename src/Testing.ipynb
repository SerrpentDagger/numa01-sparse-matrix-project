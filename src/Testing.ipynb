{
 "cells": [
  {
   "cell_type": "code",
   "execution_count": null,
   "metadata": {},
   "outputs": [],
   "source": [
    "from project_sparse import *\n",
    "from scipy import sparse\n",
    "\n",
    "n = 1000\n",
    "our = SparseMatrix(matrix)\n",
    "sci = sparse.csr_matrix(matrix)\n",
    "\n",
    "matrices = [randmatrix(random.random(),\n",
    "random.randint(3,30),\n",
    "random.randint(3,30)) for i in range(n)]\n",
    "\n",
    "matrices2 = [randmatrix(random.random(),\n",
    "matrices[i].shape[0],\n",
    "matrices[i].shape[1]) for i in range(n)]\n",
    "\n",
    "vectors = []\n",
    "for i in range(n):\n",
    "    vectors.append(*randmatrix(random.random(),\n",
    "    1,\n",
    "    matrices[i].shape[1]))\n",
    "\n",
    "our = [SparseMatrix(matrices[i]) for i in range(n)]\n",
    "sci = [sparse.csr_matrix(matrices[i]) for i in range(n)]\n",
    "our2 = [SparseMatrix(matrices2[i]) for i in range(n)]\n",
    "sci2 = [sparse.csr_matrix(matrices2[i]) for i in range(n)]"
   ]
  },
  {
   "attachments": {},
   "cell_type": "markdown",
   "metadata": {},
   "source": [
    "Changing an element present in a CSR matrix"
   ]
  },
  {
   "cell_type": "code",
   "execution_count": null,
   "metadata": {},
   "outputs": [],
   "source": [
    "%timeit [our[i].change(1,2,25) for i in range(n)]\n",
    "%timeit [sci[i].__setitem__((1,2),25) for i in range(n)]"
   ]
  },
  {
   "attachments": {},
   "cell_type": "markdown",
   "metadata": {},
   "source": [
    "Summing up two CSR matrices"
   ]
  },
  {
   "cell_type": "code",
   "execution_count": null,
   "metadata": {},
   "outputs": [],
   "source": [
    "%timeit [our[i].add(our2[i]) for i in range(100)]\n",
    "%timeit [sci[i] + sci2[i] for i in range(100)]"
   ]
  },
  {
   "attachments": {},
   "cell_type": "markdown",
   "metadata": {},
   "source": [
    "Multiplying a CSR matrix with a vector"
   ]
  },
  {
   "cell_type": "code",
   "execution_count": null,
   "metadata": {},
   "outputs": [],
   "source": [
    "%timeit [our[i].multiply(vectors[i]) for i in range(100)]\n",
    "%timeit [sci[i].multiply(vectors[i]) for i in range(100)]"
   ]
  }
 ],
 "metadata": {
  "kernelspec": {
   "display_name": "base",
   "language": "python",
   "name": "python3"
  },
  "language_info": {
   "codemirror_mode": {
    "name": "ipython",
    "version": 3
   },
   "file_extension": ".py",
   "mimetype": "text/x-python",
   "name": "python",
   "nbconvert_exporter": "python",
   "pygments_lexer": "ipython3",
   "version": "3.9.12"
  },
  "orig_nbformat": 4,
  "vscode": {
   "interpreter": {
    "hash": "874f332f4c5f95852701819c991adf6f67f79cbb12e0b6c0a82015e8ab4d82a6"
   }
  }
 },
 "nbformat": 4,
 "nbformat_minor": 2
}
