{
 "cells": [
  {
   "cell_type": "markdown",
   "id": "fac101c7",
   "metadata": {
    "slideshow": {
     "slide_type": "slide"
    }
   },
   "source": [
    "# Sparse Matrices\n",
    "\n",
    "- What are they?\n",
    "- Why are they important?\n",
    "- What are they used for?"
   ]
  },
  {
   "cell_type": "code",
   "execution_count": 1,
   "id": "40131e34",
   "metadata": {
    "slideshow": {
     "slide_type": "skip"
    }
   },
   "outputs": [
    {
     "name": "stdout",
     "output_type": "stream",
     "text": [
      "\n",
      "~~~~~~~~~~~~~~~~~~~~~~~~~~~~ EXAMPLE\n",
      "==== DESCRIPTION ====\n",
      "intern_represent - CSR\n",
      "V (value) - [10 20 30 40 50 60 70 80]\n",
      "col_index - [0 1 1 3 2 3 4 5]\n",
      "row_index - [0 2 4 7 8]\n",
      "Number of rows - 4\n",
      "Number of columns - 6\n",
      "Number of nonzero values - 8\n",
      "=====================\n",
      "[[10. 20.  0.  0.  0.  0.]\n",
      " [ 0. 30.  0. 40.  0.  0.]\n",
      " [ 0.  0. 50. 60. 70.  0.]\n",
      " [ 0.  0.  0.  0.  0. 80.]]\n",
      "[[10. 20.  0.  0.  0.  0.]\n",
      " [ 0. 30.  0. 40.  0.  0.]\n",
      " [ 0.  0. 50. 60. 70.  0.]\n",
      " [ 0.  0.  0.  0.  0. 80.]]\n",
      "\n",
      "~~~~~~~~~~~~~~~~~~~~~~~~~~~~ SOME ARRAY EXAMPLES\n",
      "[ 0  0  0  1  1  2  4  4 12 12 12]\n",
      "[0 1 3 4 6 7 8]\n",
      "[0 4 4 4 4 4]\n",
      "[2 4 5 5 7 7 7 7 7 7 7 7]\n",
      "[0 1 1 2 3 3 4 5]\n",
      "[0 0 0 0]\n",
      "\n",
      "~~~~~~~~~~~~~~~~~~~~~~~~~~~~ SWITCH TO CSC\n",
      "==== DESCRIPTION ====\n",
      "intern_represent - CSC\n",
      "V (value) - [10 20 30 50 40 60 70 80]\n",
      "col_index - [0 1 3 4 6 7 8]\n",
      "row_index - [0 0 1 2 1 2 2 3]\n",
      "Number of rows - 4\n",
      "Number of columns - 6\n",
      "Number of nonzero values - 8\n",
      "=====================\n",
      "\n",
      "~~~~~~~~~~~~~~~~~~~~~~~~~~~~ THE CHANGE METHOD\n",
      "==== DESCRIPTION ====\n",
      "intern_represent - CSC\n",
      "V (value) - [15 20 30 35 50 40 60 70 80]\n",
      "col_index - [0 1 3 5 7 8 9]\n",
      "row_index - [0 0 1 1 2 1 2 2 3]\n",
      "Number of rows - 4\n",
      "Number of columns - 6\n",
      "Number of nonzero values - 9\n",
      "=====================\n",
      "==== DESCRIPTION ====\n",
      "intern_represent - CSC\n",
      "V (value) - [20 30 35 50 40 60 70 80]\n",
      "col_index - [0 0 2 4 6 7 8]\n",
      "row_index - [0 1 1 2 1 2 2 3]\n",
      "Number of rows - 4\n",
      "Number of columns - 6\n",
      "Number of nonzero values - 8\n",
      "=====================\n",
      "==== DESCRIPTION ====\n",
      "intern_represent - CSR\n",
      "V (value) - [20 30 35 40 45 50 60 70 85]\n",
      "col_index - [1 1 2 3 1 2 3 4 5]\n",
      "row_index - [0 1 4 8 9]\n",
      "Number of rows - 4\n",
      "Number of columns - 6\n",
      "Number of nonzero values - 9\n",
      "=====================\n",
      "==== DESCRIPTION ====\n",
      "intern_represent - CSR\n",
      "V (value) - [20 30 35 40 50 60 70 85]\n",
      "col_index - [1 1 2 3 2 3 4 5]\n",
      "row_index - [0 1 4 7 8]\n",
      "Number of rows - 4\n",
      "Number of columns - 6\n",
      "Number of nonzero values - 8\n",
      "=====================\n",
      "==== DESCRIPTION ====\n",
      "intern_represent - CSR\n",
      "V (value) - [20 30 35 40 50 60 70 85]\n",
      "col_index - [1 1 2 3 2 3 4 5]\n",
      "row_index - [0 1 4 7 8]\n",
      "Number of rows - 4\n",
      "Number of columns - 6\n",
      "Number of nonzero values - 8\n",
      "=====================\n",
      "\n",
      "~~~~~~~~~~~~~~~~~~~~~~~~~~~~ VECTOR MULTIPLICATION\n",
      "==== DESCRIPTION ====\n",
      "intern_represent - CSR\n",
      "V (value) - [10 20 30 40 50 60 70 80]\n",
      "col_index - [0 1 1 3 2 3 4 5]\n",
      "row_index - [0 2 4 7 8]\n",
      "Number of rows - 4\n",
      "Number of columns - 6\n",
      "Number of nonzero values - 8\n",
      "=====================\n",
      "Input vector: [ 5  2  7 10  6  3]\n",
      "Desired output vector:  [  90  460 1370  240]\n",
      "Output vector: [  90.  460. 1370.  240.]\n",
      "Output using CSC: [  90.  460. 1370.  240.]\n",
      "\n",
      "~~~~~~~~~~~~~~~~~~~~~~~~~~~~ MATRIX ADDITION\n",
      "First summand\n",
      "==== DESCRIPTION ====\n",
      "intern_represent - CSR\n",
      "V (value) - [20 30 35 40 50 60 70 85]\n",
      "col_index - [1 1 2 3 2 3 4 5]\n",
      "row_index - [0 1 4 7 8]\n",
      "Number of rows - 4\n",
      "Number of columns - 6\n",
      "Number of nonzero values - 8\n",
      "=====================\n",
      "Second summand\n",
      "==== DESCRIPTION ====\n",
      "intern_represent - CSR\n",
      "V (value) - [ 10  20  -1  30  50  60  70 100  80]\n",
      "col_index - [0 1 5 1 2 3 4 1 5]\n",
      "row_index - [0 3 4 7 9]\n",
      "Number of rows - 4\n",
      "Number of columns - 6\n",
      "Number of nonzero values - 9\n",
      "=====================\n",
      "Sum of matrices\n",
      "==== DESCRIPTION ====\n",
      "intern_represent - CSR\n",
      "V (value) - [ 10  40  -1  60  35  40 100 120 140 100 165]\n",
      "col_index - [0 1 5 1 2 3 2 3 4 1 5]\n",
      "row_index - [ 0  3  6  9 11]\n",
      "Number of rows - 4\n",
      "Number of columns - 6\n",
      "Number of nonzero values - 11\n",
      "=====================\n",
      "Expected output\n",
      "==== DESCRIPTION ====\n",
      "intern_represent - CSR\n",
      "V (value) - [ 20  40  -1  60  40 100 120 140 100 160]\n",
      "col_index - [0 1 5 1 3 2 3 4 1 5]\n",
      "row_index - [ 0  3  5  8 10]\n",
      "Number of rows - 4\n",
      "Number of columns - 6\n",
      "Number of nonzero values - 10\n",
      "=====================\n",
      "\n",
      "~~~~~~~~~~~~~~~~~~~~~~~~~~~~ TOLERANCE ADDITION\n",
      "First tolerance summand\n",
      "==== DESCRIPTION ====\n",
      "intern_represent - CSR\n",
      "V (value) - [1 1 2]\n",
      "col_index - [0 2 1]\n",
      "row_index - [0 2 2 3]\n",
      "Number of rows - 3\n",
      "Number of columns - 3\n",
      "Number of nonzero values - 3\n",
      "=====================\n",
      "Second tolerance summand\n",
      "==== DESCRIPTION ====\n",
      "intern_represent - CSR\n",
      "V (value) - [-1 -2]\n",
      "col_index - [0 1]\n",
      "row_index - [0 1 1 2]\n",
      "Number of rows - 3\n",
      "Number of columns - 3\n",
      "Number of nonzero values - 2\n",
      "=====================\n",
      "Sum of matrices\n",
      "==== DESCRIPTION ====\n",
      "intern_represent - CSR\n",
      "V (value) - [1]\n",
      "col_index - [2]\n",
      "row_index - [0 1 1 1]\n",
      "Number of rows - 3\n",
      "Number of columns - 3\n",
      "Number of nonzero values - 1\n",
      "=====================\n",
      "Expected output\n",
      "==== DESCRIPTION ====\n",
      "intern_represent - CSR\n",
      "V (value) - [1]\n",
      "col_index - [2]\n",
      "row_index - [0 1 1 1]\n",
      "Number of rows - 3\n",
      "Number of columns - 3\n",
      "Number of nonzero values - 1\n",
      "=====================\n",
      "\n",
      "~~~~~~~~~~~~~~~~~~~~~~~~~~~~ EMPTY ADDITION\n",
      "Empty summand\n",
      "==== DESCRIPTION ====\n",
      "intern_represent - CSR\n",
      "V (value) - []\n",
      "col_index - []\n",
      "row_index - [0 0 0 0]\n",
      "Number of rows - 3\n",
      "Number of columns - 3\n",
      "Number of nonzero values - 0\n",
      "=====================\n",
      "Sum of empty\n",
      "==== DESCRIPTION ====\n",
      "intern_represent - CSR\n",
      "V (value) - []\n",
      "col_index - []\n",
      "row_index - [0 0 0 0]\n",
      "Number of rows - 3\n",
      "Number of columns - 3\n",
      "Number of nonzero values - 0\n",
      "=====================\n",
      "\n",
      "~~~~~~~~~~~~~~~~~~~~~~~~~~~~ TOEPLITZ\n",
      "==== DESCRIPTION ====\n",
      "intern_represent - CSR\n",
      "V (value) - [ 2 -1 -1  2 -1 -1  2 -1 -1  2]\n",
      "col_index - [0 1 0 1 2 1 2 3 2 3]\n",
      "row_index - [ 0  2  5  8 10]\n",
      "Number of rows - 4\n",
      "Number of columns - 4\n",
      "Number of nonzero values - 10\n",
      "=====================\n",
      "==== DESCRIPTION ====\n",
      "intern_represent - CSR\n",
      "V (value) - [ 2 -1 -1  2]\n",
      "col_index - [0 1 0 1]\n",
      "row_index - [0 2 4]\n",
      "Number of rows - 2\n",
      "Number of columns - 2\n",
      "Number of nonzero values - 4\n",
      "=====================\n",
      "==== DESCRIPTION ====\n",
      "intern_represent - CSR\n",
      "V (value) - [2]\n",
      "col_index - [0]\n",
      "row_index - [0, 1]\n",
      "Number of rows - 1\n",
      "Number of columns - 1\n",
      "Number of nonzero values - 1\n",
      "=====================\n",
      "==== DESCRIPTION ====\n",
      "intern_represent - CSR\n",
      "V (value) - []\n",
      "col_index - []\n",
      "row_index - []\n",
      "Number of rows - 0\n",
      "Number of columns - 0\n",
      "Number of nonzero values - 0\n",
      "=====================\n",
      "==== DESCRIPTION ====\n",
      "intern_represent - CSR\n",
      "V (value) - [ 4 -2 -2  4 -2 -2  4 -2 -2  4]\n",
      "col_index - [0 1 0 1 2 1 2 3 2 3]\n",
      "row_index - [ 0  2  5  8 10]\n",
      "Number of rows - 4\n",
      "Number of columns - 4\n",
      "Number of nonzero values - 10\n",
      "=====================\n",
      "\n",
      "~~~~~~~~~~~~~~~~~~~~~~~~~~~~ BIGGER TOEPLITZ\n",
      "==== DESCRIPTION ====\n",
      "intern_represent - CSR\n",
      "V (value) - [ 2 -1 -1  2 -1 -1  2 -1 -1  2 -1 -1  2 -1 -1  2 -1 -1  2 -1 -1  2 -1 -1\n",
      "  2 -1 -1  2]\n",
      "col_index - [0 1 0 1 2 1 2 3 2 3 4 3 4 5 4 5 6 5 6 7 6 7 8 7 8 9 8 9]\n",
      "row_index - [ 0  2  5  8 11 14 17 20 23 26 28]\n",
      "Number of rows - 10\n",
      "Number of columns - 10\n",
      "Number of nonzero values - 28\n",
      "=====================\n",
      "==== DESCRIPTION ====\n",
      "intern_represent - CSR\n",
      "V (value) - [ 2 -1 -1 ... -1 -1  2]\n",
      "col_index - [   0    1    0 ... 9999 9998 9999]\n",
      "row_index - [    0     2     5 ... 29993 29996 29998]\n",
      "Number of rows - 10000\n",
      "Number of columns - 10000\n",
      "Number of nonzero values - 29998\n",
      "=====================\n",
      "\n",
      "~~~~~~~~~~~~~~~~~~~~~~~~~~~~ PERFORMANCE\n"
     ]
    },
    {
     "ename": "TypeError",
     "evalue": "bad operand type for abs(): 'str'",
     "output_type": "error",
     "traceback": [
      "\u001b[1;31m---------------------------------------------------------------------------\u001b[0m",
      "\u001b[1;31mTypeError\u001b[0m                                 Traceback (most recent call last)",
      "Cell \u001b[1;32mIn[1], line 1\u001b[0m\n\u001b[1;32m----> 1\u001b[0m \u001b[38;5;28;01mfrom\u001b[39;00m \u001b[38;5;21;01mproject_sparse\u001b[39;00m \u001b[38;5;28;01mimport\u001b[39;00m \u001b[38;5;241m*\u001b[39m\n\u001b[0;32m      2\u001b[0m \u001b[38;5;28;01mimport\u001b[39;00m \u001b[38;5;21;01mnumpy\u001b[39;00m \u001b[38;5;28;01mas\u001b[39;00m \u001b[38;5;21;01mnp\u001b[39;00m\n",
      "File \u001b[1;32m~\\Desktop\\Python\\Spyder\\Excercises\\Sparse\\src\\project_sparse.py:651\u001b[0m\n\u001b[0;32m    648\u001b[0m prnt(\u001b[38;5;124m\"\u001b[39m\u001b[38;5;124mPERFORMANCE\u001b[39m\u001b[38;5;124m\"\u001b[39m)\n\u001b[0;32m    650\u001b[0m toe \u001b[38;5;241m=\u001b[39m SparseMatrix\u001b[38;5;241m.\u001b[39mtoeplitz(\u001b[38;5;241m3\u001b[39m)\n\u001b[1;32m--> 651\u001b[0m \u001b[43mtoe\u001b[49m\u001b[38;5;241;43m.\u001b[39;49m\u001b[43mchange\u001b[49m\u001b[43m(\u001b[49m\u001b[38;5;241;43m1\u001b[39;49m\u001b[43m,\u001b[49m\u001b[38;5;241;43m0\u001b[39;49m\u001b[43m,\u001b[49m\u001b[38;5;124;43m\"\u001b[39;49m\u001b[38;5;124;43mnail\u001b[39;49m\u001b[38;5;124;43m\"\u001b[39;49m\u001b[43m)\u001b[49m\n\u001b[0;32m    652\u001b[0m toe\u001b[38;5;241m.\u001b[39mshow()\n\u001b[0;32m    653\u001b[0m toe\u001b[38;5;241m.\u001b[39mdescribe()\n",
      "File \u001b[1;32m~\\Desktop\\Python\\Spyder\\Excercises\\Sparse\\src\\project_sparse.py:281\u001b[0m, in \u001b[0;36mSparseMatrix.change\u001b[1;34m(self, i, j, value)\u001b[0m\n\u001b[0;32m    278\u001b[0m \u001b[38;5;28;01mif\u001b[39;00m \u001b[38;5;129;01mnot\u001b[39;00m \u001b[38;5;28misinstance\u001b[39m(i, \u001b[38;5;28mint\u001b[39m) \u001b[38;5;129;01mor\u001b[39;00m \u001b[38;5;129;01mnot\u001b[39;00m \u001b[38;5;28misinstance\u001b[39m(j, \u001b[38;5;28mint\u001b[39m):\n\u001b[0;32m    279\u001b[0m     \u001b[38;5;28;01mraise\u001b[39;00m \u001b[38;5;167;01mIndexError\u001b[39;00m(\u001b[38;5;124m\"\u001b[39m\u001b[38;5;124mBoth indices must be integers.\u001b[39m\u001b[38;5;124m\"\u001b[39m)\n\u001b[1;32m--> 281\u001b[0m nonZero \u001b[38;5;241m=\u001b[39m \u001b[38;5;28mabs\u001b[39m(value) \u001b[38;5;241m>\u001b[39m\u001b[38;5;241m=\u001b[39m \u001b[38;5;28mself\u001b[39m\u001b[38;5;241m.\u001b[39mtol\n\u001b[0;32m    282\u001b[0m \u001b[38;5;28;01mif\u001b[39;00m \u001b[38;5;28mself\u001b[39m\u001b[38;5;241m.\u001b[39mintern_represent \u001b[38;5;241m==\u001b[39m \u001b[38;5;124m'\u001b[39m\u001b[38;5;124mCSR\u001b[39m\u001b[38;5;124m'\u001b[39m:\n\u001b[0;32m    283\u001b[0m     index \u001b[38;5;241m=\u001b[39m np\u001b[38;5;241m.\u001b[39msearchsorted(\u001b[38;5;28mself\u001b[39m\u001b[38;5;241m.\u001b[39mcols[\u001b[38;5;28mself\u001b[39m\u001b[38;5;241m.\u001b[39mrows[i]:\u001b[38;5;28mself\u001b[39m\u001b[38;5;241m.\u001b[39mrows[i\u001b[38;5;241m+\u001b[39m\u001b[38;5;241m1\u001b[39m]], j) \u001b[38;5;241m+\u001b[39m \u001b[38;5;28mself\u001b[39m\u001b[38;5;241m.\u001b[39mrows[i]\n",
      "\u001b[1;31mTypeError\u001b[0m: bad operand type for abs(): 'str'"
     ]
    }
   ],
   "source": [
    "from project_sparse import *\n",
    "import numpy as np"
   ]
  },
  {
   "cell_type": "markdown",
   "id": "961dafc3",
   "metadata": {
    "slideshow": {
     "slide_type": "slide"
    }
   },
   "source": [
    "# Default Constructor\n",
    "\n",
    "```python\n",
    "class SparseMatrix:\n",
    "    def __init__(self, matrix, tol = 10e-8):\n",
    "        self.intern_represent = 'CSR'\n",
    "        self.tol = tol\n",
    "        \n",
    "        matrix[np.abs(matrix) < tol] = 0\n",
    "        \n",
    "        self.v, self.cols, self.rows = [], [], [0]\n",
    "        \n",
    "        for r in matrix:\n",
    "            nonzero_cols = np.nonzero(r)[0]\n",
    "            self.cols.extend(nonzero_cols)\n",
    "            self.v.extend(r[nonzero_cols])\n",
    "            self.rows.append(len(self.cols))\n",
    "\n",
    "        # This is a quick and probably bad fix for something I forgot to mention,\n",
    "        # we assumed in the meeting that these three should be of type np.array\n",
    "        self.v, self.cols, self.rows = np.array(self.v), np.array(self.cols), np.array(self.rows)    \n",
    "       \n",
    "        self.number_of_nonzero = len(self.cols)\n",
    "        \n",
    "        self.num_rows = matrix.shape[0]\n",
    "        self.num_cols = matrix.shape[1]\n",
    "```"
   ]
  },
  {
   "cell_type": "markdown",
   "id": "61d1ea4c",
   "metadata": {
    "slideshow": {
     "slide_type": "slide"
    }
   },
   "source": [
    "## Testing"
   ]
  },
  {
   "cell_type": "code",
   "execution_count": null,
   "id": "163e13c1",
   "metadata": {
    "slideshow": {
     "slide_type": "-"
    }
   },
   "outputs": [],
   "source": [
    "import numpy as np\n",
    "matrix = np.array([[10,20, 0,  0,  0,  0 ],\\\n",
    "                   [0, 30, 0,  40, 0,  0 ],\\\n",
    "                   [0, 0,  50, 60, 70, 0 ],\\\n",
    "                   [0, 0,  0,  0,  0,  80],])\n",
    "vector = np.array([5, 2, 7, 10, 6, 3])\n",
    "\n",
    "sparse_matrix = SparseMatrix(matrix, tol = 10**-5)\n",
    "sparse_matrix.describe()\n",
    "sparse_matrix.show()"
   ]
  },
  {
   "cell_type": "markdown",
   "id": "ef4624ae",
   "metadata": {
    "slideshow": {
     "slide_type": "slide"
    }
   },
   "source": [
    "# Utility Functions\n",
    "\n",
    "```python\n",
    "def randmatrix(approximate_sparsity, num_rows, num_cols):\n",
    "    matrix = np.zeros(shape=[num_rows, num_cols])\n",
    "    for i in range(num_rows):\n",
    "        for j in range(num_cols):\n",
    "            num = random.random()\n",
    "            if num > approximate_sparsity:\n",
    "                matrix[i,j] = random.randint(1,1000000)\n",
    "    return matrix\n",
    "\n",
    "def decompress(array, dimension):\n",
    "    return np.repeat(np.arange(dimension), np.diff(array))\n",
    "\n",
    "def compress(array, dimension, number_of_nonzero):\n",
    "    values, indices = np.unique(array, return_index=True)\n",
    "    return np.repeat([*indices, number_of_nonzero], np.diff([-1, *values, dimension]))\n",
    "\n",
    "def reorder(first_indices, second_indices, values):\n",
    "    new_order = np.lexsort((second_indices, first_indices))\n",
    "    return first_indices[new_order], second_indices[new_order], values[new_order]\n",
    "```"
   ]
  },
  {
   "cell_type": "markdown",
   "id": "a5185c31",
   "metadata": {
    "slideshow": {
     "slide_type": "slide"
    }
   },
   "source": [
    "## Testing"
   ]
  },
  {
   "cell_type": "code",
   "execution_count": null,
   "id": "82c83dd6",
   "metadata": {
    "slideshow": {
     "slide_type": "-"
    }
   },
   "outputs": [],
   "source": [
    "print(compress([2, 4, 5, 5, 7, 7, 7, 7, 7, 7, 7, 7], 10, 12))\n",
    "print(compress([0, 1, 1, 2, 3, 3, 4, 5], 6, 8))\n",
    "print(compress([0, 0, 0, 0], 5, 4))\n",
    "\n",
    "print(decompress([0, 0, 0, 1, 1, 2, 4, 4, 12, 12, 12], 10))\n",
    "print(decompress([0, 1, 3, 4, 6, 7, 8], 6))\n",
    "print(decompress([0, 4, 4, 4, 4, 4], 5))"
   ]
  },
  {
   "cell_type": "markdown",
   "id": "23c9707e",
   "metadata": {
    "slideshow": {
     "slide_type": "slide"
    }
   },
   "source": [
    "# Changing Internal Format\n",
    "\n",
    "```python\n",
    "    def switch(self, new_represent):\n",
    "        if new_represent != 'CSR' and new_represent != 'CSC':\n",
    "            raise ValueError(\"Representation not supported.\")\n",
    "\n",
    "        if self.intern_represent == 'CSR' and new_represent == 'CSC':\n",
    "            self.rows = decompress(self.rows, self.num_rows)\n",
    "            self.cols, self.rows, self.v = reorder(self.cols, self.rows, self.v)\n",
    "            self.cols = compress(self.cols, self.num_cols, self.number_of_nonzero)\n",
    "\n",
    "        elif self.intern_represent == 'CSC' and new_represent == 'CSR':\n",
    "            self.cols = decompress(self.cols, self.num_cols)\n",
    "            self.rows, self.cols, self.v = reorder(self.rows, self.cols, self.v)\n",
    "            self.rows = compress(self.rows, self.num_rows, self.number_of_nonzero)\n",
    "\n",
    "        self.intern_represent = new_represent\n",
    "```"
   ]
  },
  {
   "cell_type": "markdown",
   "id": "10dc484e",
   "metadata": {
    "slideshow": {
     "slide_type": "slide"
    }
   },
   "source": [
    "## Testing"
   ]
  },
  {
   "cell_type": "code",
   "execution_count": null,
   "id": "a2977eef",
   "metadata": {
    "slideshow": {
     "slide_type": "-"
    }
   },
   "outputs": [],
   "source": [
    "sparse_matrix.switch('CSC')\n",
    "sparse_matrix.describe()\n",
    "sparse_matrix.show()"
   ]
  },
  {
   "cell_type": "markdown",
   "id": "9ac4087f",
   "metadata": {
    "slideshow": {
     "slide_type": "slide"
    }
   },
   "source": [
    "# Changing an Element\n",
    "\n",
    "```python\n",
    "    def change(self, i, j, value):\n",
    "        if i >= self.num_rows or j >= self.num_cols:\n",
    "            raise IndexError(\"Position out of bounds.\")\n",
    "        if i < 0 or j < 0:\n",
    "            raise IndexError(\"The coordinates of the position cannot be negative.\")\n",
    "        if not isinstance(i, int) or not isinstance(j, int):\n",
    "            raise IndexError(\"Both indices must be integers.\")\n",
    "\n",
    "        nonZero = abs(value) >= self.tol\n",
    "        if self.intern_represent == 'CSR':\n",
    "            index = np.searchsorted(self.cols[self.rows[i]:self.rows[i+1]], j) + self.rows[i]\n",
    "            if j < len(self.cols) and self.cols[index] == j and index != self.rows[i+1]:\n",
    "                if nonZero:\n",
    "                    self.v[index] = value\n",
    "                else:\n",
    "                    self.cols = np.delete(self.cols, index)\n",
    "                    self.v = np.delete(self.v, index)\n",
    "                    self.rows[i+1:] -= 1\n",
    "                    self.number_of_nonzero -= 1\n",
    "            elif nonZero:\n",
    "                self.cols = np.insert(self.cols, index, j)\n",
    "                self.v = np.insert(self.v, index, value)\n",
    "                self.rows[i+1:] += 1\n",
    "                self.number_of_nonzero += 1\n",
    "        elif self.intern_represent == 'CSC':\n",
    "            index = np.searchsorted(self.rows[self.cols[j]:self.cols[j+1]], i) + self.cols[j]\n",
    "            if i < len(self.rows) and self.rows[index] == i and index != self.cols[j+1]:\n",
    "                if nonZero:\n",
    "                    self.v[index] = value\n",
    "                else:\n",
    "                    self.rows = np.delete(self.rows, index)\n",
    "                    self.v = np.delete(self.v, index)\n",
    "                    self.cols[j+1:] -= 1\n",
    "                    self.number_of_nonzero -= 1\n",
    "            elif nonZero:\n",
    "                self.rows = np.insert(self.rows, index, i)\n",
    "                self.v = np.insert(self.v, index, value)\n",
    "                self.cols[j+1:] += 1\n",
    "                self.number_of_nonzero += 1\n",
    "```"
   ]
  },
  {
   "cell_type": "markdown",
   "id": "92bef6e3",
   "metadata": {
    "slideshow": {
     "slide_type": "slide"
    }
   },
   "source": [
    "## Testing"
   ]
  },
  {
   "cell_type": "code",
   "execution_count": null,
   "id": "d295ca69",
   "metadata": {
    "slideshow": {
     "slide_type": "-"
    }
   },
   "outputs": [],
   "source": [
    "sparse_matrix.change(0, 0, 15)\n",
    "sparse_matrix.change(1, 2, 35)\n",
    "sparse_matrix.describe()\n",
    "sparse_matrix.change(0, 0, 0)\n",
    "sparse_matrix.describe()\n",
    "\n",
    "sparse_matrix.switch('CSR')\n",
    "sparse_matrix.change(2, 1, 45)\n",
    "sparse_matrix.change(3, 5, 85)\n",
    "sparse_matrix.describe()\n",
    "sparse_matrix.change(2, 1, 0)\n",
    "sparse_matrix.describe()\n",
    "sparse_matrix.change(1, 0, 0)\n",
    "sparse_matrix.describe()"
   ]
  },
  {
   "cell_type": "markdown",
   "id": "4837ee26",
   "metadata": {
    "slideshow": {
     "slide_type": "slide"
    }
   },
   "source": [
    "# Equality\n",
    "\n",
    "```python\n",
    "    def equals(self, other):\n",
    "        if isinstance(other, SparseMatrix):\n",
    "            new = copy.copy(self)\n",
    "            if self.intern_represent != other.intern_represent:\n",
    "                new.switch(other.intern_represent)\n",
    "\n",
    "            if np.sum(new != other) == 0:\n",
    "                return 1\n",
    "            else:\n",
    "                return 0\n",
    "        else:\n",
    "            raise ValueError(\"Summand not of type SparseMatrix!\")\n",
    "```"
   ]
  },
  {
   "cell_type": "markdown",
   "id": "ee5571f8",
   "metadata": {
    "slideshow": {
     "slide_type": "slide"
    }
   },
   "source": [
    "# Addition\n",
    "\n",
    "```python\n",
    "    def add(self, other):\n",
    "        if not isinstance(other, SparseMatrix):\n",
    "            raise ValueError(\"other must be of type SparseMatrix!\")\n",
    "            \n",
    "        if not (self.num_cols == other.num_cols and self.num_rows == other.num_rows):\n",
    "                raise ValueError(\"Invalid dimensions!\")\n",
    "\n",
    "        Sum = copy.copy(self)\n",
    "        Term = copy.copy(other)\n",
    "\n",
    "        if Sum.intern_represent != Term.intern_represent:\n",
    "            Sum.switch(Term.intern_represent)\n",
    "\n",
    "        if Sum.intern_represent == 'CSR':\n",
    "\n",
    "            Term.rows = decompress(Term.rows, Term.num_rows)\n",
    "            Term.cols, Term.rows, Term.v = reorder(Term.cols, Term.rows, Term.v)\n",
    "                \n",
    "            Sum.rows = decompress(Sum.rows, Sum.num_rows)\n",
    "            Sum.cols, Sum.rows, Sum.v = reorder(Sum.cols, Sum.rows, Sum.v)\n",
    "                \n",
    "        else:\n",
    "\n",
    "            Sum.cols = decompress(Sum.cols, Sum.num_cols)\n",
    "            Sum.rows, Sum.cols, Sum.v = reorder(Sum.rows, Sum.cols, Sum.v)\n",
    "\n",
    "            Term.cols = decompress(Term.cols, Term.num_cols)\n",
    "            Term.rows, Term.cols, Term.v = reorder(Term.rows, Term.cols, Term.v)\n",
    "     \n",
    "        Sum.rows = np.concatenate((Sum.rows, Term.rows))\n",
    "        Sum.cols = np.concatenate((Sum.cols, Term.cols))\n",
    "        Sum.v = np.concatenate((Sum.v, Term.v))\n",
    "        Sum.rows, Sum.cols, Sum.v = reorder(Sum.rows, Sum.cols, Sum.v)\n",
    "    \n",
    "        coords = np.column_stack((Sum.cols,Sum.rows))\n",
    "        i = -1\n",
    "\t\t\n",
    "        while i < len(Sum.rows) -2:\n",
    "            i+=1\n",
    "            if (coords[i] == coords[i+1]).all():\n",
    "                coords = np.delete(coords, i, axis=0)\n",
    "                result = Sum.v[i] + Sum.v[i+1]\n",
    "                Sum.rows = np.delete(Sum.rows, i)\n",
    "                Sum.cols = np.delete(Sum.cols, i)\n",
    "                Sum.v = np.delete(Sum.v, i)\n",
    "                if abs(result) >= self.tol:\n",
    "                    Sum.v[i] = result\n",
    "                else:\n",
    "                    Sum.rows = np.delete(Sum.rows, i)\n",
    "                    Sum.cols = np.delete(Sum.cols, i)\n",
    "                    Sum.v = np.delete(Sum.v, i)\n",
    "                    coords = np.delete(coords, i, axis=0)\n",
    "                i -= 1\n",
    "\n",
    "        Sum.number_of_nonzero = len(coords)        \n",
    "        if Sum.intern_represent == 'CSC':\n",
    "            Sum.cols = compress(Sum.cols, Sum.num_cols, Sum.number_of_nonzero)\n",
    "        else:\n",
    "            Sum.rows = compress(Sum.rows, Sum.num_rows, Sum.number_of_nonzero)\n",
    "        return Sum\n",
    "```"
   ]
  },
  {
   "cell_type": "markdown",
   "id": "ea81424a",
   "metadata": {
    "slideshow": {
     "slide_type": "slide"
    }
   },
   "source": [
    "## Testing"
   ]
  },
  {
   "cell_type": "code",
   "execution_count": null,
   "id": "12a15f34",
   "metadata": {
    "slideshow": {
     "slide_type": "-"
    }
   },
   "outputs": [],
   "source": [
    "prnt(\"MATRIX ADDITION\")\n",
    "matrix2 = np.array([[10,20, 0,  0,  0,  -1  ],\\\n",
    "                   [0, 30, 0,  0, 0,  0 ],\\\n",
    "                   [0, 0,  50, 60, 70, 0 ],\\\n",
    "                   [0, 100,  0,  0,  0,  80],])\n",
    "sparse_matrix2 = SparseMatrix(matrix2, tol = 10**-5)\n",
    "\n",
    "print(\"First summand\")\n",
    "sparse_matrix.describe()\n",
    "print(\"Second summand\")\n",
    "sparse_matrix2.describe()\n",
    "\n",
    "sparse_matrix3 = SparseMatrix(matrix + matrix2, tol = 10**-5)\n",
    "print(\"Sum of matrices\")\n",
    "(sparse_matrix.add(sparse_matrix2)).describe()\n",
    "print(\"Expected output\")\n",
    "sparse_matrix3.describe()\n",
    "\n",
    "prnt(\"TOLERANCE ADDITION\")\n",
    "matrix3 = np.array([[1, 0, 1],\n",
    "                    [0, 0, 0],\n",
    "                    [0, 2, 0]])\n",
    "matrix4 = np.array([[-1, 0, 0],\n",
    "                    [0, 0, 0],\n",
    "                    [0, -2, 0]])\n",
    "spMat3 = SparseMatrix(matrix3)\n",
    "print(\"First tolerance summand\")\n",
    "spMat3.describe()\n",
    "\n",
    "spMat4 = SparseMatrix(matrix4)\n",
    "print(\"Second tolerance summand\")\n",
    "spMat4.describe()\n",
    "print(\"Sum of matrices\")\n",
    "spMat3.add(spMat4).describe()\n",
    "print(\"Expected output\")\n",
    "SparseMatrix(matrix3 + matrix4).describe()\n",
    "\n",
    "prnt(\"EMTPY ADDITION\")\n",
    "matrix5 = np.array([[0, 0, 0],\n",
    "                    [0, 0, 0],\n",
    "                    [0, 0, 0]])\n",
    "spMat5 = SparseMatrix(matrix5)\n",
    "print(\"Empty summand\")\n",
    "spMat5.describe()\n",
    "print(\"Sum of empty\")\n",
    "spMat5.add(spMat5).describe()"
   ]
  },
  {
   "cell_type": "markdown",
   "id": "e41f03ec",
   "metadata": {
    "slideshow": {
     "slide_type": "slide"
    }
   },
   "source": [
    "# Multiplication\n",
    "\n",
    "```python\n",
    "    def multiply(self, vector):\n",
    "        if len(vector.shape) != 1:\n",
    "            raise ValueError(f\"The input to vector multiplication is not a vector: {vector}\")\n",
    "        vLen = vector.shape[0]\n",
    "        if vLen != self.num_cols:\n",
    "            raise ValueError(f\"The input vector {vector} does not match the matrix for multiplication.\")\n",
    "        \n",
    "        out = np.zeros(self.num_rows)\n",
    "        if self.intern_represent == 'CSR':\n",
    "            for i in range(self.num_rows):\n",
    "                start, end = self.rows[i], self.rows[i + 1]\n",
    "                slLen = end - start\n",
    "                vals, inds = self.v[start:end], self.cols[start:end]\n",
    "                for j in range(slLen):\n",
    "                    out[i] += vals[j] * vector[inds[j]]\n",
    "        elif self.intern_represent == 'CSC':\n",
    "            for i in range(self.num_cols):\n",
    "                start, end = self.cols[i], self.cols[i + 1]\n",
    "                slLen = end - start\n",
    "                vals, inds = self.v[start:end], self.rows[start:end]\n",
    "                vecVal = vector[i]\n",
    "                for j in range(slLen):\n",
    "                    out[inds[j]] += vals[j] * vecVal\n",
    "        else:\n",
    "            raise ValueError(\"Unrecognized internal representation for vector multiplication.\")\n",
    "        return out\n",
    "```"
   ]
  },
  {
   "cell_type": "markdown",
   "id": "c7245406",
   "metadata": {
    "slideshow": {
     "slide_type": "slide"
    }
   },
   "source": [
    "## Testing"
   ]
  },
  {
   "cell_type": "code",
   "execution_count": null,
   "id": "2f5c2b4b",
   "metadata": {
    "slideshow": {
     "slide_type": "-"
    }
   },
   "outputs": [],
   "source": [
    "sparse_mult = SparseMatrix(matrix)\n",
    "sparse_mult.describe()\n",
    "print(\"Input vector:\", vector)\n",
    "print(\"Desired output vector: \", matrix.dot(vector))\n",
    "print(\"Output vector:\", sparse_mult.multiply(vector))\n",
    "sparse_mult.switch('CSC')\n",
    "print(\"Output using CSC:\", sparse_mult.multiply(vector))"
   ]
  },
  {
   "cell_type": "markdown",
   "id": "dfbf9d33",
   "metadata": {
    "slideshow": {
     "slide_type": "slide"
    }
   },
   "source": [
    "# Toeplitz Constructor\n",
    "\n",
    "```python\n",
    "    @staticmethod\n",
    "    def toeplitz(n):\n",
    "        if n < 0:\n",
    "            raise ValueError(\"The order of the Toeplitz matrix must be at least 0.\")\n",
    "        \n",
    "        if not isinstance(n, int):\n",
    "            raise TypeError(\"The order must be an integer.\")\n",
    "\n",
    "        toe = SparseMatrix(np.array([[]]))\n",
    "        toe.num_rows = n\n",
    "        toe.num_cols = n\n",
    "        toe.tol = 10e-8\n",
    "        \n",
    "        toe.number_of_nonzero = 3*n - 2 if n > 0 else 0\n",
    "        toe.v = np.array(([2, -1, -1] * n)[:-2])\n",
    "        \n",
    "        ind = np.array([0, 1, 0])\n",
    "        \n",
    "        toe.cols = []\n",
    "        for i in range(n):\n",
    "            toe.cols.extend(ind)\n",
    "            ind += 1\n",
    "        toe.cols = toe.cols[:-2]\n",
    "        toe.cols = np.array(toe.cols)\n",
    "        toe.rows = []\n",
    "        if n == 0:\n",
    "            return toe\n",
    "        if n == 1:\n",
    "            toe.rows = [0, 1]\n",
    "            return toe\n",
    "        \n",
    "        toe.rows = [0, 2]\n",
    "        toe.rows += [i*3 - 1 for i in range(2, n)]\n",
    "        toe.rows += [toe.number_of_nonzero]\n",
    "        toe.rows = np.array(toe.rows)\n",
    "        \n",
    "        return toe\n",
    "```"
   ]
  },
  {
   "cell_type": "markdown",
   "id": "6cfe0c47",
   "metadata": {
    "slideshow": {
     "slide_type": "slide"
    }
   },
   "source": [
    "## Testing"
   ]
  },
  {
   "cell_type": "code",
   "execution_count": null,
   "id": "53e9b651",
   "metadata": {
    "slideshow": {
     "slide_type": "-"
    }
   },
   "outputs": [],
   "source": [
    "toe = SparseMatrix.toeplitz(4)\n",
    "toe.describe()\n",
    "toe = SparseMatrix.toeplitz(2)\n",
    "toe.describe()\n",
    "toe = SparseMatrix.toeplitz(1)\n",
    "toe.describe()\n",
    "toe = SparseMatrix.toeplitz(0)\n",
    "toe.describe()\n",
    "SparseMatrix.toeplitz(4).add(SparseMatrix.toeplitz(4)).describe()\n",
    "\n",
    "toe = SparseMatrix.toeplitz(10)\n",
    "toe.describe()\n",
    "toe = SparseMatrix.toeplitz(100)\n",
    "toe = SparseMatrix.toeplitz(10000)\n",
    "toe.describe()"
   ]
  },
  {
   "cell_type": "markdown",
   "id": "8d5c3b1b",
   "metadata": {},
   "source": [
    "# Reflection\n",
    "- Discussion"
   ]
  },
  {
   "cell_type": "code",
   "execution_count": null,
   "id": "18a6eb5a",
   "metadata": {},
   "outputs": [],
   "source": []
  }
 ],
 "metadata": {
  "celltoolbar": "Slideshow",
  "kernelspec": {
   "display_name": "Python 3 (ipykernel)",
   "language": "python",
   "name": "python3"
  },
  "language_info": {
   "codemirror_mode": {
    "name": "ipython",
    "version": 3
   },
   "file_extension": ".py",
   "mimetype": "text/x-python",
   "name": "python",
   "nbconvert_exporter": "python",
   "pygments_lexer": "ipython3",
   "version": "3.11.0"
  },
  "rise": {
   "scroll": true
  }
 },
 "nbformat": 4,
 "nbformat_minor": 5
}
